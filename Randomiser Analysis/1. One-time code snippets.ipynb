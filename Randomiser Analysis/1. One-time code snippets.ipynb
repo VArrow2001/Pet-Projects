{
 "cells": [
  {
   "attachments": {},
   "cell_type": "markdown",
   "metadata": {},
   "source": [
    "### Get the cookies and save them to file"
   ]
  },
  {
   "attachments": {},
   "cell_type": "markdown",
   "metadata": {},
   "source": [
    "```python\n",
    "import json\n",
    "from selenium import webdriver\n",
    "from time import sleep\n",
    "\n",
    "def save_site_cookies(driver, url, file_path, sleep_time=120):\n",
    "    driver.get(url)\n",
    "    sleep(sleep_time)\n",
    "    cookies = driver.get_cookies()\n",
    "    with open(file_path, \"wt\") as f:\n",
    "        json.dump(cookies, f)\n",
    "\n",
    "path_to_chromedriver = 'chromedriver'\n",
    "options = webdriver.ChromeOptions()\n",
    "driver = webdriver.Chrome(path_to_chromedriver, options=options)\n",
    "\n",
    "save_site_cookies(driver, 'https://music.yandex.ru/', 'cookies/yandex.json')\n",
    "save_site_cookies(driver, 'https://open.spotify.com/', 'cookies/spotify.json')\n",
    "```"
   ]
  }
 ],
 "metadata": {
  "kernelspec": {
   "display_name": "base",
   "language": "python",
   "name": "python3"
  },
  "language_info": {
   "codemirror_mode": {
    "name": "ipython",
    "version": 3
   },
   "file_extension": ".py",
   "mimetype": "text/x-python",
   "name": "python",
   "nbconvert_exporter": "python",
   "pygments_lexer": "ipython3",
   "version": "3.9.7 (default, Sep 16 2021, 08:50:36) \n[Clang 10.0.0 ]"
  },
  "orig_nbformat": 4,
  "vscode": {
   "interpreter": {
    "hash": "2b4672bf9cd080df58190005adaa0dd3ee8c5aadb05765b8a3015e3423cf9ab8"
   }
  }
 },
 "nbformat": 4,
 "nbformat_minor": 2
}
